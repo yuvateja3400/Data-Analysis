{
  "nbformat": 4,
  "nbformat_minor": 0,
  "metadata": {
    "colab": {
      "provenance": []
    },
    "kernelspec": {
      "name": "python3",
      "display_name": "Python 3"
    },
    "language_info": {
      "name": "python"
    }
  },
  "cells": [
    {
      "cell_type": "markdown",
      "source": [],
      "metadata": {
        "id": "CIpI8b9AG_Bq"
      }
    },
    {
      "cell_type": "code",
      "execution_count": 1,
      "metadata": {
        "id": "jmlniJNBGEUM"
      },
      "outputs": [],
      "source": [
        "import numpy as np"
      ]
    },
    {
      "cell_type": "markdown",
      "source": [
        "##Write a Python program using NumPy to create a 5x5 matrix filled with random integers between 1 and 100. Calculate the mean and standard deviation of the matrix and print them."
      ],
      "metadata": {
        "id": "F8PAY5RaHBLy"
      }
    },
    {
      "cell_type": "code",
      "source": [
        "#Generating the matrix of random integers between 1-100 in a 5*5 numpy array\n",
        "matrix = np.random.randint(0,101,(5,5))\n",
        "matrix"
      ],
      "metadata": {
        "colab": {
          "base_uri": "https://localhost:8080/"
        },
        "id": "Binn8wOjHAuA",
        "outputId": "5fc78ff3-f6ab-4c94-8514-f4920c1fae5f"
      },
      "execution_count": 4,
      "outputs": [
        {
          "output_type": "execute_result",
          "data": {
            "text/plain": [
              "array([[68, 56, 81, 94, 35],\n",
              "       [99, 74, 38, 48, 31],\n",
              "       [86, 99, 54, 89, 95],\n",
              "       [14,  1, 11, 86, 78],\n",
              "       [92, 52, 77, 43,  2]])"
            ]
          },
          "metadata": {},
          "execution_count": 4
        }
      ]
    },
    {
      "cell_type": "code",
      "source": [
        "# Mean of the (5*5) numpy array\n",
        "\n",
        "mean  = np.mean(matrix)\n",
        "mean"
      ],
      "metadata": {
        "colab": {
          "base_uri": "https://localhost:8080/"
        },
        "id": "9VC0X0LdHo79",
        "outputId": "e358e5b5-1fc0-46c3-ff40-b37877c8ab66"
      },
      "execution_count": 6,
      "outputs": [
        {
          "output_type": "execute_result",
          "data": {
            "text/plain": [
              "np.float64(60.12)"
            ]
          },
          "metadata": {},
          "execution_count": 6
        }
      ]
    },
    {
      "cell_type": "code",
      "source": [
        "#Standard deviation of the (5*5) numpy array\n",
        "std_dev = np.std(matrix)\n",
        "std_dev"
      ],
      "metadata": {
        "colab": {
          "base_uri": "https://localhost:8080/"
        },
        "id": "Cr43QG63HSvH",
        "outputId": "a564e9fe-8469-48ba-f64e-a8ca27281d7b"
      },
      "execution_count": 5,
      "outputs": [
        {
          "output_type": "execute_result",
          "data": {
            "text/plain": [
              "np.float64(30.86398548470369)"
            ]
          },
          "metadata": {},
          "execution_count": 5
        }
      ]
    },
    {
      "cell_type": "code",
      "source": [],
      "metadata": {
        "id": "QngV3NSvHesR"
      },
      "execution_count": null,
      "outputs": []
    },
    {
      "cell_type": "markdown",
      "source": [
        "##Using NumPy, create a 5x5 identity matrix and add a scalar value of 5 to it. Multiply the resulting matrix with a 5x1 column vector filled with random integers between 1 and 10. Print the resulting vector.\n",
        "\n"
      ],
      "metadata": {
        "id": "hYc4vg9UMW-r"
      }
    },
    {
      "cell_type": "code",
      "source": [
        "iden_matrix = np.eye(5,5)\n",
        "iden_matrix"
      ],
      "metadata": {
        "colab": {
          "base_uri": "https://localhost:8080/"
        },
        "id": "lTW3v5h5Mep9",
        "outputId": "2dcdae08-7b95-403b-c964-5412a8560a25"
      },
      "execution_count": 47,
      "outputs": [
        {
          "output_type": "execute_result",
          "data": {
            "text/plain": [
              "array([[1., 0., 0., 0., 0.],\n",
              "       [0., 1., 0., 0., 0.],\n",
              "       [0., 0., 1., 0., 0.],\n",
              "       [0., 0., 0., 1., 0.],\n",
              "       [0., 0., 0., 0., 1.]])"
            ]
          },
          "metadata": {},
          "execution_count": 47
        }
      ]
    },
    {
      "cell_type": "code",
      "source": [
        "iden_matrix = iden_matrix + 5\n",
        "iden_matrix"
      ],
      "metadata": {
        "colab": {
          "base_uri": "https://localhost:8080/"
        },
        "id": "NiCGYrs7NDCc",
        "outputId": "38ce4df2-b78d-4030-e6e7-935cc8200705"
      },
      "execution_count": 48,
      "outputs": [
        {
          "output_type": "execute_result",
          "data": {
            "text/plain": [
              "array([[6., 5., 5., 5., 5.],\n",
              "       [5., 6., 5., 5., 5.],\n",
              "       [5., 5., 6., 5., 5.],\n",
              "       [5., 5., 5., 6., 5.],\n",
              "       [5., 5., 5., 5., 6.]])"
            ]
          },
          "metadata": {},
          "execution_count": 48
        }
      ]
    },
    {
      "cell_type": "code",
      "source": [
        "columnvector=np.random.randint(1,11,(5,1))\n",
        "print(columnvector)\n",
        "result_matrix = iden_matrix @ columnvector"
      ],
      "metadata": {
        "colab": {
          "base_uri": "https://localhost:8080/"
        },
        "id": "kLHbRbuENQY9",
        "outputId": "7c1b0b24-7548-4ffc-c4f6-8115e0122d3d"
      },
      "execution_count": 49,
      "outputs": [
        {
          "output_type": "stream",
          "name": "stdout",
          "text": [
            "[[ 2]\n",
            " [10]\n",
            " [ 9]\n",
            " [ 8]\n",
            " [ 5]]\n"
          ]
        }
      ]
    },
    {
      "cell_type": "code",
      "source": [
        "result_matrix"
      ],
      "metadata": {
        "colab": {
          "base_uri": "https://localhost:8080/"
        },
        "id": "NAkk23ivNnOw",
        "outputId": "95cc5388-2c89-4674-d42d-b3a72206bfaa"
      },
      "execution_count": 50,
      "outputs": [
        {
          "output_type": "execute_result",
          "data": {
            "text/plain": [
              "array([[172.],\n",
              "       [180.],\n",
              "       [179.],\n",
              "       [178.],\n",
              "       [175.]])"
            ]
          },
          "metadata": {},
          "execution_count": 50
        }
      ]
    },
    {
      "cell_type": "code",
      "source": [],
      "metadata": {
        "id": "0_0wCo4oNzAI"
      },
      "execution_count": null,
      "outputs": []
    },
    {
      "cell_type": "markdown",
      "source": [
        "##Write a Python program using NumPy to create two 3x3 matrices filled with random integers between 1 and 100. Compute their element-wise multiplication, and print the resulting matrix."
      ],
      "metadata": {
        "id": "v9n24E9bRmV1"
      }
    },
    {
      "cell_type": "code",
      "source": [
        "matrix_x = np.random.randint(1,101,(3,3))\n",
        "print(matrix_x)\n",
        "print()\n",
        "matrix_y = np.random.randint(1,101,(3,3))\n",
        "print(matrix_y)\n"
      ],
      "metadata": {
        "colab": {
          "base_uri": "https://localhost:8080/"
        },
        "id": "_RkPYYEhRqpZ",
        "outputId": "f3460b6c-cecc-4597-8761-49a4ecbdb10f"
      },
      "execution_count": 54,
      "outputs": [
        {
          "output_type": "stream",
          "name": "stdout",
          "text": [
            "[[74 37 30]\n",
            " [78 64 36]\n",
            " [70 23 86]]\n",
            "\n",
            "[[28  7 51]\n",
            " [93 36 93]\n",
            " [58 92 50]]\n"
          ]
        }
      ]
    },
    {
      "cell_type": "code",
      "source": [
        "resulting_matrix = matrix_x * matrix_y #elements wise multiplication\n",
        "print(resulting_matrix)"
      ],
      "metadata": {
        "colab": {
          "base_uri": "https://localhost:8080/"
        },
        "id": "o-UhcceYR6RO",
        "outputId": "320cb212-cdad-432b-cc5c-05fa58489964"
      },
      "execution_count": 55,
      "outputs": [
        {
          "output_type": "stream",
          "name": "stdout",
          "text": [
            "[[2072  259 1530]\n",
            " [7254 2304 3348]\n",
            " [4060 2116 4300]]\n"
          ]
        }
      ]
    },
    {
      "cell_type": "code",
      "source": [],
      "metadata": {
        "id": "5X0Ck81BS0kB"
      },
      "execution_count": null,
      "outputs": []
    },
    {
      "cell_type": "markdown",
      "source": [
        "##Using NumPy, create a 1000-element array of random integers between 1 and 1000. Calculate the cumulative sum of the array and print the 10th, 100th, and 500th elements of the cumulative sum array."
      ],
      "metadata": {
        "id": "BrC7sA75TXfK"
      }
    },
    {
      "cell_type": "code",
      "source": [
        "thousand_array = np.random.randint(0,1001,1000)\n",
        "cummulative_sum = np.cumsum(thousand_array)\n",
        "print(\"10 th element is : \", cummulative_sum[9])\n",
        "print(\"100 th element is : \", cummulative_sum[99])\n",
        "print(\"500 th element is : \", cummulative_sum[499])"
      ],
      "metadata": {
        "colab": {
          "base_uri": "https://localhost:8080/"
        },
        "id": "ZfAQsjM0TYwE",
        "outputId": "ce8e0ec8-2581-4eb1-fe30-ce42167f7b3b"
      },
      "execution_count": 58,
      "outputs": [
        {
          "output_type": "stream",
          "name": "stdout",
          "text": [
            "10 th element is :  5197\n",
            "100 th element is :  51803\n",
            "500 th element is :  242293\n"
          ]
        }
      ]
    },
    {
      "cell_type": "code",
      "source": [],
      "metadata": {
        "id": "hsYyXsj3UT9e"
      },
      "execution_count": null,
      "outputs": []
    },
    {
      "cell_type": "markdown",
      "source": [
        "##Write a Python program using NumPy to create a 10x10 matrix filled with random integers between 1 and 100. Find the minimum and maximum values of the matrix along with their indices."
      ],
      "metadata": {
        "id": "OXowck2-UUU7"
      }
    },
    {
      "cell_type": "code",
      "source": [
        "matrix_a = np.random.randint(0,101,(10,10))\n",
        "print(matrix_a)\n",
        "print(\"max element is : \",np.max(matrix_a))\n",
        "print(\"min element is : \",np.min(matrix_a))"
      ],
      "metadata": {
        "colab": {
          "base_uri": "https://localhost:8080/"
        },
        "id": "yYnAmjTDUYVy",
        "outputId": "21d52616-d274-4741-f709-90e219795dca"
      },
      "execution_count": 60,
      "outputs": [
        {
          "output_type": "stream",
          "name": "stdout",
          "text": [
            "[[ 39 100  25  38  47  28  15  22  10  71]\n",
            " [ 62  60  85  50  93  23   2  82   7   7]\n",
            " [ 86  64  40  76  84  68  39  11  31  31]\n",
            " [ 21  87  93  80  72  54  99  91  28  26]\n",
            " [  1  95  64  75  51  21  67  45  47  60]\n",
            " [ 57   3   5  82  89  90  83  57  46  24]\n",
            " [ 24   8  71   6  39  49  64  41  81  34]\n",
            " [ 18  77  26   2  41  78  24  96  28  22]\n",
            " [ 90  85  38  12  56  67  81  19  82  79]\n",
            " [ 25  65  51   4  59  34   1 100  38   4]]\n",
            "max element is :  100\n",
            "min element is :  1\n"
          ]
        }
      ]
    },
    {
      "cell_type": "code",
      "source": [],
      "metadata": {
        "id": "jwkHvbLKUYZv"
      },
      "execution_count": null,
      "outputs": []
    },
    {
      "cell_type": "markdown",
      "source": [
        "##Write a Python program using NumPy to create a 5x5 matrix filled with random floats between 0 and 1. Replace the maximum value in the matrix with 0 and print the original and modified matrices."
      ],
      "metadata": {
        "id": "OYjBSl4rVBjx"
      }
    },
    {
      "cell_type": "code",
      "source": [
        "array_b = np.random.uniform(0,1,(5,5))\n",
        "array_b"
      ],
      "metadata": {
        "colab": {
          "base_uri": "https://localhost:8080/"
        },
        "id": "ISTuZhruUYh5",
        "outputId": "657a45fc-06df-44b2-93e5-2e98e178b255"
      },
      "execution_count": 82,
      "outputs": [
        {
          "output_type": "execute_result",
          "data": {
            "text/plain": [
              "array([[0.13211345, 0.90678461, 0.07506147, 0.39929456, 0.98506213],\n",
              "       [0.05472209, 0.00349308, 0.94446759, 0.19179832, 0.37385227],\n",
              "       [0.09755038, 0.18195921, 0.85679635, 0.7257676 , 0.80545079],\n",
              "       [0.75936388, 0.44384145, 0.69538186, 0.33535764, 0.73524938],\n",
              "       [0.77630027, 0.21212009, 0.87831094, 0.44015609, 0.5527566 ]])"
            ]
          },
          "metadata": {},
          "execution_count": 82
        }
      ]
    },
    {
      "cell_type": "code",
      "source": [
        "min_index_flat = np.argmin(array_b)\n",
        "print(min_index_flat)"
      ],
      "metadata": {
        "colab": {
          "base_uri": "https://localhost:8080/"
        },
        "id": "D05JT888VZzg",
        "outputId": "7cdcd5b7-6d4d-4380-8329-39e224ea1b27"
      },
      "execution_count": 79,
      "outputs": [
        {
          "output_type": "stream",
          "name": "stdout",
          "text": [
            "15\n"
          ]
        }
      ]
    },
    {
      "cell_type": "code",
      "source": [
        "min_row,min_column = np.unravel_index(min_index_flat,array_b.shape)\n",
        "print(min_row,min_column)"
      ],
      "metadata": {
        "colab": {
          "base_uri": "https://localhost:8080/"
        },
        "id": "rcfESFm7ZKxF",
        "outputId": "d74dfaec-e9fd-4cf9-c2de-d8d6168fa060"
      },
      "execution_count": 80,
      "outputs": [
        {
          "output_type": "stream",
          "name": "stdout",
          "text": [
            "3 0\n"
          ]
        }
      ]
    },
    {
      "cell_type": "code",
      "source": [
        "print(\"before matrix\",array_b)\n",
        "print()\n",
        "array_b[min_row,min_column] = 0\n",
        "print(\"after matrix\",array_b)\n"
      ],
      "metadata": {
        "colab": {
          "base_uri": "https://localhost:8080/"
        },
        "id": "QRcHAsfbWFCu",
        "outputId": "3b6c9890-5c50-49f8-db07-0e9f7e655264"
      },
      "execution_count": 84,
      "outputs": [
        {
          "output_type": "stream",
          "name": "stdout",
          "text": [
            "before matrix [[0.13211345 0.90678461 0.07506147 0.39929456 0.98506213]\n",
            " [0.05472209 0.00349308 0.94446759 0.19179832 0.37385227]\n",
            " [0.09755038 0.18195921 0.85679635 0.7257676  0.80545079]\n",
            " [0.         0.44384145 0.69538186 0.33535764 0.73524938]\n",
            " [0.77630027 0.21212009 0.87831094 0.44015609 0.5527566 ]]\n",
            "\n",
            "after matrix [[0.13211345 0.90678461 0.07506147 0.39929456 0.98506213]\n",
            " [0.05472209 0.00349308 0.94446759 0.19179832 0.37385227]\n",
            " [0.09755038 0.18195921 0.85679635 0.7257676  0.80545079]\n",
            " [0.         0.44384145 0.69538186 0.33535764 0.73524938]\n",
            " [0.77630027 0.21212009 0.87831094 0.44015609 0.5527566 ]]\n"
          ]
        }
      ]
    },
    {
      "cell_type": "code",
      "source": [
        "import numpy as np\n",
        "\n",
        "array_b = np.random.uniform(0, 1, (5, 5))\n",
        "min_index_flat = np.argmin(array_b)\n",
        "min_row, min_col = np.unravel_index(min_index_flat, array_b.shape)\n",
        "\n",
        "print(\"Before matrix:\\n\", array_b)\n",
        "print(f\"\\nMinimum value: {array_b[min_row, min_col]} at position ({min_row}, {min_col})\")\n",
        "\n",
        "array_b[min_row, min_col] = 0\n",
        "\n",
        "print(\"\\nAfter matrix:\\n\", array_b)"
      ],
      "metadata": {
        "colab": {
          "base_uri": "https://localhost:8080/"
        },
        "id": "G2qG3EtVaeQN",
        "outputId": "0c69be77-f6f4-4c50-dc8a-1dea31817888"
      },
      "execution_count": 85,
      "outputs": [
        {
          "output_type": "stream",
          "name": "stdout",
          "text": [
            "Before matrix:\n",
            " [[0.66541098 0.92561999 0.55196963 0.44705843 0.46651653]\n",
            " [0.43367695 0.52603441 0.1452003  0.09120279 0.48598188]\n",
            " [0.36445064 0.55759661 0.67949975 0.88217121 0.48306644]\n",
            " [0.17904631 0.67188088 0.85307837 0.04246135 0.14964051]\n",
            " [0.20036451 0.36980859 0.77419876 0.65000271 0.11068144]]\n",
            "\n",
            "Minimum value: 0.04246135216725189 at position (3, 3)\n",
            "\n",
            "After matrix:\n",
            " [[0.66541098 0.92561999 0.55196963 0.44705843 0.46651653]\n",
            " [0.43367695 0.52603441 0.1452003  0.09120279 0.48598188]\n",
            " [0.36445064 0.55759661 0.67949975 0.88217121 0.48306644]\n",
            " [0.17904631 0.67188088 0.85307837 0.         0.14964051]\n",
            " [0.20036451 0.36980859 0.77419876 0.65000271 0.11068144]]\n"
          ]
        }
      ]
    },
    {
      "cell_type": "markdown",
      "source": [
        "##Write a Python program using NumPy to create a 1D array of 20 elements with random integers between 1 and 100. Calculate the number of even and odd elements in the array and print the result.\n"
      ],
      "metadata": {
        "id": "N3zFFrRMcIRb"
      }
    },
    {
      "cell_type": "code",
      "source": [
        "arr_c = np.random.randint(1,101,20)\n",
        "arr_c"
      ],
      "metadata": {
        "colab": {
          "base_uri": "https://localhost:8080/"
        },
        "id": "DZK_lEp2cKmd",
        "outputId": "8dec4173-5a6a-4f67-9328-20a5acbeb4b6"
      },
      "execution_count": 86,
      "outputs": [
        {
          "output_type": "execute_result",
          "data": {
            "text/plain": [
              "array([ 42,  79,  43,  20,  16,  98,  60,  70,  25,  90,  48,  70,  80,\n",
              "        10,  27,  31,  66,  14, 100,  91])"
            ]
          },
          "metadata": {},
          "execution_count": 86
        }
      ]
    },
    {
      "cell_type": "code",
      "source": [
        "\n",
        "result_even_odd = np.where(arr_c % 2 ==0,\"true\",\"fasle\")\n",
        "even_count = np.sum(arr_c % 2 ==0)\n",
        "odd_count = np.sum(arr_c % 2 !=0)\n",
        "\n",
        "print(\"even_count\",even_count)\n",
        "print(\"odd_count\",odd_count)"
      ],
      "metadata": {
        "colab": {
          "base_uri": "https://localhost:8080/"
        },
        "id": "FioeAUpudXmi",
        "outputId": "4520a8ca-2717-4904-cb52-2a0d40a4cf43"
      },
      "execution_count": 90,
      "outputs": [
        {
          "output_type": "stream",
          "name": "stdout",
          "text": [
            "even_count 14\n",
            "odd_count 6\n"
          ]
        }
      ]
    },
    {
      "cell_type": "code",
      "source": [],
      "metadata": {
        "id": "Ogbt6i60gIYB"
      },
      "execution_count": null,
      "outputs": []
    },
    {
      "cell_type": "markdown",
      "source": [
        "##Write a Python program using NumPy to create a 2D array of size 8x8, where the outer border elements are set to 1 and the inner elements are set to 0. Print the resulting array."
      ],
      "metadata": {
        "id": "OYpGI-10gI1v"
      }
    },
    {
      "cell_type": "code",
      "source": [
        "arr = np.zeros((8, 8), dtype=int)\n",
        "\n",
        "# Set the outer border elements to 1\n",
        "arr[0, :] = 1       # Top row\n",
        "arr[-1, :] = 1      # Bottom row\n",
        "arr[:, 0] = 1       # Left column\n",
        "arr[:, -1] = 1      # Right column\n",
        "\n",
        "\n",
        "print(arr)"
      ],
      "metadata": {
        "colab": {
          "base_uri": "https://localhost:8080/"
        },
        "id": "z2dWMAm2gLAk",
        "outputId": "fce6d191-6d2b-4537-c892-c1b050633f98"
      },
      "execution_count": 91,
      "outputs": [
        {
          "output_type": "stream",
          "name": "stdout",
          "text": [
            "[[1 1 1 1 1 1 1 1]\n",
            " [1 0 0 0 0 0 0 1]\n",
            " [1 0 0 0 0 0 0 1]\n",
            " [1 0 0 0 0 0 0 1]\n",
            " [1 0 0 0 0 0 0 1]\n",
            " [1 0 0 0 0 0 0 1]\n",
            " [1 0 0 0 0 0 0 1]\n",
            " [1 1 1 1 1 1 1 1]]\n"
          ]
        }
      ]
    }
  ]
}